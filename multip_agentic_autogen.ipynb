{
 "cells": [
  {
   "cell_type": "code",
   "execution_count": 2,
   "metadata": {},
   "outputs": [],
   "source": [
    "from core.autogen.agent import Agent\n",
    "\n",
    "maya = Agent(agent_name =\"Maya\", \n",
    "             system_message=\"Your name is Maya and you are playing a riddles with Henry. Ask a questions and wait for answer before asking next question\")\n",
    "henry = Agent(agent_name = \"Henry\", \n",
    "              system_message=\"Your name is Henry and your planing riddles with Maya, try to answer the question from Maya\"\n",
    "    \"If you can not answer you can guess the answer\")\n"
   ]
  },
  {
   "cell_type": "code",
   "execution_count": 4,
   "metadata": {},
   "outputs": [
    {
     "name": "stdout",
     "output_type": "stream",
     "text": [
      "\u001b[33mHenry\u001b[0m (to Maya):\n",
      "\n",
      "I'm Henry. Maya, lets play the game\n",
      "\n",
      "--------------------------------------------------------------------------------\n",
      "\u001b[33mMaya\u001b[0m (to Henry):\n",
      "\n",
      "Great! Here's the first riddle for you, Henry:\n",
      "\n",
      "I speak without a mouth and hear without ears. I have no body, but I come alive with the wind. What am I?\n",
      "\n",
      "--------------------------------------------------------------------------------\n",
      "\u001b[33mHenry\u001b[0m (to Maya):\n",
      "\n",
      "Hmm, let me think... Ah! I believe the answer is an echo. An echo seems to fit this riddle perfectly!\n",
      "\n",
      "--------------------------------------------------------------------------------\n",
      "\u001b[33mMaya\u001b[0m (to Henry):\n",
      "\n",
      "That's correct, Henry! Well done. Ready for the next one?\n",
      "\n",
      "I have keys but no locks. I have space but no room. You can enter, but you can't go outside. What am I?\n",
      "\n",
      "--------------------------------------------------------------------------------\n",
      "\u001b[33mHenry\u001b[0m (to Maya):\n",
      "\n",
      "Thanks, Maya! Yes, I'm ready for the next one.\n",
      "\n",
      "Let's see... keys but no locks, space but no room, you can enter but can't go outside... It sounds like a computer keyboard. That's my guess!\n",
      "\n",
      "--------------------------------------------------------------------------------\n",
      "\u001b[33mMaya\u001b[0m (to Henry):\n",
      "\n",
      "You're on a roll, Henry! A computer keyboard is indeed the right answer.\n",
      "\n",
      "Here's another one for you:\n",
      "\n",
      "I can fly without wings. I can cry without eyes. Wherever I go, darkness flies. What am I?\n",
      "\n",
      "--------------------------------------------------------------------------------\n",
      "\u001b[33mHenry\u001b[0m (to Maya):\n",
      "\n",
      "Thank you, Maya!\n",
      "\n",
      "Hmm, let's see... flying without wings, crying without eyes, and bringing darkness wherever it goes. My guess would be a cloud. It can move through the sky (fly), produce rain (cry), and when it gets very thick, it can block the sunlight, making it dark. So, I think the answer is a cloud!\n",
      "\n",
      "--------------------------------------------------------------------------------\n",
      "\u001b[33mMaya\u001b[0m (to Henry):\n",
      "\n",
      "That's a very thoughtful answer, Henry, but the riddle actually points to something else. Think about what flies across the sky and often brings darkness.\n",
      "\n",
      "Would you like to guess again?\n",
      "\n",
      "--------------------------------------------------------------------------------\n"
     ]
    },
    {
     "data": {
      "text/plain": [
       "ChatResult(chat_id=None, chat_history=[{'content': \"I'm Henry. Maya, lets play the game\", 'role': 'assistant'}, {'content': \"Great! Here's the first riddle for you, Henry:\\n\\nI speak without a mouth and hear without ears. I have no body, but I come alive with the wind. What am I?\", 'role': 'user'}, {'content': 'Hmm, let me think... Ah! I believe the answer is an echo. An echo seems to fit this riddle perfectly!', 'role': 'assistant'}, {'content': \"That's correct, Henry! Well done. Ready for the next one?\\n\\nI have keys but no locks. I have space but no room. You can enter, but you can't go outside. What am I?\", 'role': 'user'}, {'content': \"Thanks, Maya! Yes, I'm ready for the next one.\\n\\nLet's see... keys but no locks, space but no room, you can enter but can't go outside... It sounds like a computer keyboard. That's my guess!\", 'role': 'assistant'}, {'content': \"You're on a roll, Henry! A computer keyboard is indeed the right answer.\\n\\nHere's another one for you:\\n\\nI can fly without wings. I can cry without eyes. Wherever I go, darkness flies. What am I?\", 'role': 'user'}, {'content': \"Thank you, Maya!\\n\\nHmm, let's see... flying without wings, crying without eyes, and bringing darkness wherever it goes. My guess would be a cloud. It can move through the sky (fly), produce rain (cry), and when it gets very thick, it can block the sunlight, making it dark. So, I think the answer is a cloud!\", 'role': 'assistant'}, {'content': \"That's a very thoughtful answer, Henry, but the riddle actually points to something else. Think about what flies across the sky and often brings darkness.\\n\\nWould you like to guess again?\", 'role': 'user'}], summary=\"That's a very thoughtful answer, Henry, but the riddle actually points to something else. Think about what flies across the sky and often brings darkness.\\n\\nWould you like to guess again?\", cost={'usage_including_cached_inference': {'total_cost': 0.010825, 'gpt-4o-2024-05-13': {'cost': 0.010825, 'prompt_tokens': 1244, 'completion_tokens': 307, 'total_tokens': 1551}}, 'usage_excluding_cached_inference': {'total_cost': 0.010825, 'gpt-4o-2024-05-13': {'cost': 0.010825, 'prompt_tokens': 1244, 'completion_tokens': 307, 'total_tokens': 1551}}}, human_input=[])"
      ]
     },
     "execution_count": 4,
     "metadata": {},
     "output_type": "execute_result"
    }
   ],
   "source": [
    "result = henry.initiate_chat(\n",
    "    recipient= maya,\n",
    "    message=\"I'm Henry. Maya, lets play the game\",\n",
    "    max_turns=4\n",
    ")\n",
    "\n",
    "result"
   ]
  },
  {
   "cell_type": "code",
   "execution_count": 16,
   "metadata": {},
   "outputs": [
    {
     "data": {
      "text/plain": [
       "[{'content': \"I'm Henry. Maya, lets play the game\", 'role': 'assistant'},\n",
       " {'content': \"Great! Here's the first riddle for you, Henry:\\n\\nI speak without a mouth and hear without ears. I have no body, but I come alive with the wind. What am I?\",\n",
       "  'role': 'user'},\n",
       " {'content': 'Hmm, let me think... Ah! I believe the answer is an echo. An echo seems to fit this riddle perfectly!',\n",
       "  'role': 'assistant'},\n",
       " {'content': \"That's correct, Henry! Well done. Ready for the next one?\\n\\nI have keys but no locks. I have space but no room. You can enter, but you can't go outside. What am I?\",\n",
       "  'role': 'user'},\n",
       " {'content': \"Thanks, Maya! Yes, I'm ready for the next one.\\n\\nLet's see... keys but no locks, space but no room, you can enter but can't go outside... It sounds like a computer keyboard. That's my guess!\",\n",
       "  'role': 'assistant'},\n",
       " {'content': \"You're on a roll, Henry! A computer keyboard is indeed the right answer.\\n\\nHere's another one for you:\\n\\nI can fly without wings. I can cry without eyes. Wherever I go, darkness flies. What am I?\",\n",
       "  'role': 'user'},\n",
       " {'content': \"Thank you, Maya!\\n\\nHmm, let's see... flying without wings, crying without eyes, and bringing darkness wherever it goes. My guess would be a cloud. It can move through the sky (fly), produce rain (cry), and when it gets very thick, it can block the sunlight, making it dark. So, I think the answer is a cloud!\",\n",
       "  'role': 'assistant'},\n",
       " {'content': \"That's a very thoughtful answer, Henry, but the riddle actually points to something else. Think about what flies across the sky and often brings darkness.\\n\\nWould you like to guess again?\",\n",
       "  'role': 'user'}]"
      ]
     },
     "execution_count": 16,
     "metadata": {},
     "output_type": "execute_result"
    }
   ],
   "source": [
    "result.chat_history"
   ]
  },
  {
   "cell_type": "code",
   "execution_count": 13,
   "metadata": {},
   "outputs": [
    {
     "name": "stdout",
     "output_type": "stream",
     "text": [
      "I'm Henry. Maya, lets play the game\n",
      "Great! Here's the first riddle for you, Henry:\n",
      "\n",
      "I speak without a mouth and hear without ears. I have no body, but I come alive with the wind. What am I?\n",
      "Hmm, let me think... Ah! I believe the answer is an echo. An echo seems to fit this riddle perfectly!\n",
      "That's correct, Henry! Well done. Ready for the next one?\n",
      "\n",
      "I have keys but no locks. I have space but no room. You can enter, but you can't go outside. What am I?\n",
      "Thanks, Maya! Yes, I'm ready for the next one.\n",
      "\n",
      "Let's see... keys but no locks, space but no room, you can enter but can't go outside... It sounds like a computer keyboard. That's my guess!\n",
      "You're on a roll, Henry! A computer keyboard is indeed the right answer.\n",
      "\n",
      "Here's another one for you:\n",
      "\n",
      "I can fly without wings. I can cry without eyes. Wherever I go, darkness flies. What am I?\n",
      "Thank you, Maya!\n",
      "\n",
      "Hmm, let's see... flying without wings, crying without eyes, and bringing darkness wherever it goes. My guess would be a cloud. It can move through the sky (fly), produce rain (cry), and when it gets very thick, it can block the sunlight, making it dark. So, I think the answer is a cloud!\n",
      "That's a very thoughtful answer, Henry, but the riddle actually points to something else. Think about what flies across the sky and often brings darkness.\n",
      "\n",
      "Would you like to guess again?\n"
     ]
    }
   ],
   "source": [
    "for chat_history in result.chat_history:\n",
    "    print(chat_history[\"content\"])"
   ]
  },
  {
   "cell_type": "code",
   "execution_count": null,
   "metadata": {},
   "outputs": [],
   "source": []
  }
 ],
 "metadata": {
  "kernelspec": {
   "display_name": ".venv",
   "language": "python",
   "name": "python3"
  },
  "language_info": {
   "codemirror_mode": {
    "name": "ipython",
    "version": 3
   },
   "file_extension": ".py",
   "mimetype": "text/x-python",
   "name": "python",
   "nbconvert_exporter": "python",
   "pygments_lexer": "ipython3",
   "version": "3.11.3"
  }
 },
 "nbformat": 4,
 "nbformat_minor": 2
}
