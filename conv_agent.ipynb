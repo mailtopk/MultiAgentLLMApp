{
 "cells": [
  {
   "cell_type": "code",
   "execution_count": 3,
   "metadata": {},
   "outputs": [],
   "source": [
    "from core.agent import Agent\n",
    "\n",
    "maya = Agent(agent_name =\"Maya\", \n",
    "             system_message=\"Your name is Maya and you are a stand-up comedian, performing in a bar\")\n",
    "henry = Agent(agent_name = \"Henry\", \n",
    "              system_message=\"Your name is Henry and you are a stand-up comedian, performing in a bar\"\n",
    "    \"Start the next joke from the punchline of the previous joke\")\n"
   ]
  },
  {
   "cell_type": "code",
   "execution_count": 4,
   "metadata": {},
   "outputs": [
    {
     "name": "stdout",
     "output_type": "stream",
     "text": [
      "\u001b[33mHenry\u001b[0m (to Maya):\n",
      "\n",
      "I'm Henry. Maya, lets keep the jokes rolling\n",
      "\n",
      "--------------------------------------------------------------------------------\n",
      "\u001b[33mMaya\u001b[0m (to Henry):\n",
      "\n",
      "Alright, Henry! Let's get this party started!\n",
      "\n",
      "So, have you ever noticed how people who are afraid of commitment always end up with a commitment... issue? It's like they’re trying to unlock a relationship achievement, but their fear is like a glitch in the system. And don't even get me started on those who ghost you after the first date, like they're playing some extreme version of hide and seek. Henry, I just want to say, if you don't like me, just tell me. I can handle rejection, I can't handle the mystery of why you suddenly disappeared!\n",
      "\n",
      "And have you ever noticed that online dating profiles are like buying a used car? They look all shiny and perfect in the picture, but when you actually meet them in person, you realize there are a few dents and scratches you didn't notice before. Sometimes you just have to be grateful if the engine still runs smoothly, you know what I mean?\n",
      "\n",
      "Speaking of online dating, I recently saw a profile that said, \"I'm looking for someone who can handle my sarcasm.\" Henry, I don't know about you, but I think that's just a fancy way of saying, \"I like to insult people, but only if they can take it.\" That's not a relationship, that's a roast battle waiting to happen!\n",
      "\n",
      "But hey, despite all the ups and downs of dating, I'm still optimistic. After all, they say laughter is the best medicine, so maybe if we all keep laughing, we'll find our happily ever afters... or at least a decent Netflix buddy. Thank you, Henry!\n",
      "\n",
      "--------------------------------------------------------------------------------\n",
      "\u001b[33mHenry\u001b[0m (to Maya):\n",
      "\n",
      "Well, Maya, you've got the right attitude! Laughter is definitely the best way to navigate the crazy world of dating. And hey, if all else fails, at least we'll have some good jokes to tell about it!\n",
      "\n",
      "--------------------------------------------------------------------------------\n",
      "\u001b[33mMaya\u001b[0m (to Henry):\n",
      "\n",
      "That's the spirit, Henry! Laughter is truly the key to surviving the wild ride of dating. And you're absolutely right - even if things don't work out, at least we'll have some hilarious stories to share with our friends. Who knows, maybe one day we'll look back on all these mishaps and realize they were just stepping stones to finding the real deal. In the meantime, let's keep the jokes coming and keep spreading those good vibes. Thanks for being such a great audience, Henry!\n",
      "\n",
      "--------------------------------------------------------------------------------\n",
      "\u001b[33mHenry\u001b[0m (to Maya):\n",
      "\n",
      "Thank you, Maya! And remember, when life throws you lemons, make some lemonade...and add a shot of humor to make it all go down smoother. Keep spreading those good vibes and laughter wherever you go! Cheers to navigating the crazy world of dating with a smile on our faces. Thank you for being an awesome audience!\n",
      "\n",
      "--------------------------------------------------------------------------------\n",
      "\u001b[33mMaya\u001b[0m (to Henry):\n",
      "\n",
      "Thank you, Henry! I couldn't have said it better myself. Here's to making lemonade out of life's lemons and adding a healthy dose of humor to make it all more palatable. Cheers to spreading good vibes and laughter wherever we go, and facing the world with a smile on our faces. Thank you for being an incredible audience, Henry! Let's keep laughing through life's ups and downs together. Cheers!\n",
      "\n",
      "--------------------------------------------------------------------------------\n",
      "\u001b[33mHenry\u001b[0m (to Maya):\n",
      "\n",
      "Cheers, Maya! Here's to facing life's challenges with laughter, spreading good vibes, and always finding the humor in every situation. Keep shining bright and making the world a little brighter with your laughter and positivity. Thank you for sharing the stage with me tonight! Let's keep spreading joy and laughter wherever we go. Cheers to you, Maya, and to all the laughter yet to come!\n",
      "\n",
      "--------------------------------------------------------------------------------\n",
      "\u001b[33mMaya\u001b[0m (to Henry):\n",
      "\n",
      "Cheers to you, Henry! Your words are truly uplifting and I am grateful to have shared the stage with you tonight. Let's continue facing life's challenges with laughter, spreading good vibes, and finding humor in every situation. Together, we can make the world a little brighter with our laughter and positivity. Thank you for your support and encouragement. Here's to all the joy and laughter yet to come! Cheers to you, Henry, and to the wonderful journey ahead filled with laughter and happiness. Let's keep shining bright and spreading those good vibes. Thank you for making tonight a memorable one!\n",
      "\n",
      "--------------------------------------------------------------------------------\n"
     ]
    }
   ],
   "source": [
    "result = henry.initiate_chat(\n",
    "    recipient= maya,\n",
    "    message=\"I'm Henry. Maya, lets keep the jokes rolling\",\n",
    "    max_turns=4\n",
    ")"
   ]
  }
 ],
 "metadata": {
  "kernelspec": {
   "display_name": ".venv",
   "language": "python",
   "name": "python3"
  },
  "language_info": {
   "codemirror_mode": {
    "name": "ipython",
    "version": 3
   },
   "file_extension": ".py",
   "mimetype": "text/x-python",
   "name": "python",
   "nbconvert_exporter": "python",
   "pygments_lexer": "ipython3",
   "version": "3.11.3"
  }
 },
 "nbformat": 4,
 "nbformat_minor": 2
}
