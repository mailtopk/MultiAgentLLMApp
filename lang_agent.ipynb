{
 "cells": [
  {
   "cell_type": "code",
   "execution_count": null,
   "metadata": {},
   "outputs": [],
   "source": [
    "%pip install -U langgraph\n",
    "%pip install langchain_openai"
   ]
  },
  {
   "cell_type": "code",
   "execution_count": 6,
   "metadata": {},
   "outputs": [],
   "source": [
    "# simple agent\n",
    "from openai import OpenAI\n",
    "from utils.helper import get_open_ai_model_and_key\n",
    "\n",
    "key, model = get_open_ai_model_and_key()"
   ]
  },
  {
   "cell_type": "code",
   "execution_count": 9,
   "metadata": {},
   "outputs": [],
   "source": [
    "\n",
    "openai_client = OpenAI(api_key=key)\n",
    "\n",
    "chat_result = openai_client.chat.completions.create(model=model, messages=[{\n",
    "    \"role\":\"user\", \"content\": \"Tell a bed time story of Indian origin for my toddler\"\n",
    "}]);"
   ]
  },
  {
   "cell_type": "code",
   "execution_count": 11,
   "metadata": {},
   "outputs": [
    {
     "name": "stdout",
     "output_type": "stream",
     "text": [
      "Once upon a time in a village in India, there lived a little boy named Ravi. Ravi loved to explore the forests and fields around his village, but his favorite place to go was the mango grove on the outskirts of town.\n",
      "\n",
      "Every evening, Ravi's grandmother would tell him stories about the mango grove and the magical creatures that lived there. She told him about the wise old elephant who watched over the grove, the mischievous monkeys who loved to play pranks on unsuspecting visitors, and the beautiful peacocks that danced in the moonlight.\n",
      "\n",
      "One night, Ravi's grandmother told him a story about a fairy who lived in the mango grove. She was said to be the most beautiful creature in all the land, with shimmering wings that sparkled like the stars in the sky. The fairy was shy and rarely showed herself to humans, but if you were kind and pure of heart, she would grant you a wish.\n",
      "\n",
      "Ravi was fascinated by the idea of meeting the fairy, and that night, he dreamed of flying through the trees with her, laughing and dancing under the moonlight.\n",
      "\n",
      "The next day, Ravi decided to visit the mango grove in search of the fairy. As he wandered through the trees, he saw the wise old elephant, the mischievous monkeys, and the beautiful peacocks. But there was no sign of the fairy.\n",
      "\n",
      "Disappointed, Ravi sat down under a mango tree and closed his eyes. Suddenly, he felt a warm breeze on his face and heard a tinkling laugh. When he opened his eyes, he saw the most beautiful fairy he had ever seen, standing before him.\n",
      "\n",
      "The fairy smiled at Ravi and asked him what he wished for. Ravi thought for a moment and then said, \"I wish for all the children in the village to be happy and healthy.\"\n",
      "\n",
      "The fairy's eyes twinkled with delight, and she waved her hands, casting a magical spell over the village. From that day on, the children in the village were filled with joy and laughter, and Ravi knew that his wish had come true.\n",
      "\n",
      "As he returned home that night, Ravi felt grateful for the magical adventures he had experienced in the mango grove. And as he drifted off to sleep, he knew that the fairy would always watch over him and grant his wishes.\n",
      "\n",
      "And so, dear child, remember to be kind and pure of heart, for you never know when a magical fairy may come into your life and grant your deepest desires. Goodnight, sweet dreams.\n"
     ]
    }
   ],
   "source": [
    "print(chat_result.choices[0].message.content)\n"
   ]
  },
  {
   "cell_type": "code",
   "execution_count": null,
   "metadata": {},
   "outputs": [],
   "source": []
  }
 ],
 "metadata": {
  "kernelspec": {
   "display_name": ".venv",
   "language": "python",
   "name": "python3"
  },
  "language_info": {
   "codemirror_mode": {
    "name": "ipython",
    "version": 3
   },
   "file_extension": ".py",
   "mimetype": "text/x-python",
   "name": "python",
   "nbconvert_exporter": "python",
   "pygments_lexer": "ipython3",
   "version": "3.11.3"
  }
 },
 "nbformat": 4,
 "nbformat_minor": 2
}
