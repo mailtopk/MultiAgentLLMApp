{
 "cells": [
  {
   "cell_type": "code",
   "execution_count": null,
   "metadata": {},
   "outputs": [],
   "source": [
    "%pip install -U langgraph\n",
    "%pip install langchain_openai\n",
    "%pip install langchain-community\n",
    "%pip install langchain-core\n",
    "%pip install graphviz\n",
    "%pip install pygraphviz\n",
    "%pip install tavily-python"
   ]
  },
  {
   "cell_type": "markdown",
   "metadata": {},
   "source": [
    "### Web Search Tool - TavilyClient"
   ]
  },
  {
   "cell_type": "code",
   "execution_count": 3,
   "metadata": {},
   "outputs": [],
   "source": [
    "import os\n",
    "from langchain_community.tools.tavily_search import TavilySearchResults\n",
    "from utils.helper import get_tavily_api_key\n",
    "\n",
    "os.environ[\"TAVILY_API_KEY\"] = get_tavily_api_key()\n",
    "tavily_tool = TavilySearchResults(max_results=4)\n"
   ]
  },
  {
   "cell_type": "code",
   "execution_count": 11,
   "metadata": {},
   "outputs": [
    {
     "data": {
      "text/plain": [
       "[{'url': 'https://www.50states.com/facts/washington.htm',\n",
       "  'content': 'The state of Washington is the only state to be named after a United States president. Seattle is home to the first revolving restaurant, 1961. WA is the Two-letter or Postal Abbreviation and Wash. is the Traditional or Standard Abbreviation for the State of Washington. Microsoft Corporation is located in Redmond.'},\n",
       " {'url': 'https://www.factretriever.com/washington-facts',\n",
       "  'content': '10 Wonderful Washington Facts. Washington produces more apples than any other state in America. [7] Washington state is the only state named after a U.S. president. It also has the only state flag with a picture of a president. [7] Washington state produces more red raspberries, pears, apples, and sweet cherries than any other state in America.'},\n",
       " {'url': 'https://thefactfile.org/washington-facts/',\n",
       "  'content': '4. \"Seattle\" was named after the Indian leader \"Sealth.\". 5. Arctic, a town in Washington State was supposed to be named Arta, but it was misread and the name Arctic was registered. 6. Washington is the second most populous state in the west coast and in the western United States after California. 7.'},\n",
       " {'url': 'https://www.destguides.com/united-states/washington/washington-facts',\n",
       "  'content': \"Washington State History Facts. Native American history in Washington dates back more than 10,000 years; Washington's Kennewick Man is over 9,000 years old; Washingtonian Sonora Smart Dodd was the mother of Father's Day; Ginkgo Petrified Forest has more than 50 petrified wood species; Washington became the 42nd state in 1889; Scary Facts About ...\"}]"
      ]
     },
     "execution_count": 11,
     "metadata": {},
     "output_type": "execute_result"
    }
   ],
   "source": [
    "# Test tool\n",
    "result = tavily_tool.invoke(\"Give me facts about Washington state\")\n",
    "result"
   ]
  },
  {
   "cell_type": "code",
   "execution_count": 4,
   "metadata": {},
   "outputs": [],
   "source": [
    "from core.langechainagent.agent import Agent\n",
    "from langchain_community.tools.tavily_search import TavilySearchResults\n",
    "from langchain_openai import ChatOpenAI\n",
    "from utils import helper\n",
    "\n",
    "prompt = \"\"\"Your are a smart research assistant. Use the search engine to look up information. \\\n",
    "    You are allowed to make multiple calls (either together or in sequence). \\\n",
    "    Only look up information when you are sure of what you want. \\\n",
    "    If you need look up some information before asking a follow up questions, you are allowed to do that!\n",
    "    \"\"\"\n",
    "\n",
    "key, model = helper.get_open_ai_model_and_key()\n",
    "tool = TavilySearchResults(max_results=4) #increased number of results\n",
    "model = ChatOpenAI(model=model, openai_api_key = key)\n",
    "\n",
    "bot = Agent(model=model,tools=[tool],system=prompt)\n"
   ]
  },
  {
   "cell_type": "code",
   "execution_count": 5,
   "metadata": {},
   "outputs": [
    {
     "data": {
      "image/png": "[encoded data removed]",
      "text/plain": [
       "<IPython.core.display.Image object>"
      ]
     },
     "execution_count": 5,
     "metadata": {},
     "output_type": "execute_result"
    }
   ],
   "source": [
    "from IPython.display import Image\n",
    "Image(bot.graph.get_graph().draw_png())"
   ]
  },
  {
   "cell_type": "markdown",
   "metadata": {},
   "source": [
    "### Question : I want to visit Origan next month, I have 2 toddler, suggest me 5 places to visit and good place to stay\n",
    "\n",
    "This question has two parts"
   ]
  },
  {
   "cell_type": "code",
   "execution_count": 6,
   "metadata": {},
   "outputs": [
    {
     "name": "stdout",
     "output_type": "stream",
     "text": [
      "calling tool {'name': 'tavily_search_results_json', 'args': {'query': 'Top 5 places to visit in Oregon for families with toddlers'}, 'id': 'call_vnGt4fAjAijMCPFznbX6MRVN'}\n",
      "calling tool {'name': 'tavily_search_results_json', 'args': {'query': 'Best family-friendly accommodations in Oregon'}, 'id': 'call_aTOeFBePXwP00oT3YivRdbp4'}\n",
      "Back to the model!\n"
     ]
    }
   ],
   "source": [
    "from langchain_core.messages import HumanMessage\n",
    "messages = [HumanMessage(content=\"I want to visit Origan next month, I have 2 toddler, suggest me 5 places to visit and good place to stay ?\")]\n",
    "result = bot.graph.invoke({\"messages\": messages})"
   ]
  },
  {
   "cell_type": "code",
   "execution_count": 7,
   "metadata": {},
   "outputs": [
    {
     "name": "stdout",
     "output_type": "stream",
     "text": [
      "Here are some suggestions for places to visit in Oregon with your toddlers:\n",
      "\n",
      "1. Cruise on Willamette River - Portland\n",
      "2. Columbia Gorge Waterfalls Tour - Columbia River Gorge\n",
      "3. Rogue Valley Rapid Run - Grants Pass\n",
      "4. Mount Hood Day Tour - Mount Hood\n",
      "5. Newport Oregon - a fantastic city on the Oregon Coast with family-friendly attractions and scenic coastal locations\n",
      "\n",
      "For accommodations, here are some family-friendly options in Oregon:\n",
      "1. The Mark Spencer Hotel in Portland\n",
      "2. Salishan Coastal Lodge in Gleneden Beach\n",
      "3. The Ocean Lodge in Cannon Beach\n",
      "4. Sunriver Resort in Sunriver\n",
      "\n",
      "These places offer a range of activities and amenities suitable for families with toddlers.\n"
     ]
    }
   ],
   "source": [
    "print(result['messages'][-1].content)"
   ]
  }
 ],
 "metadata": {
  "kernelspec": {
   "display_name": ".venv",
   "language": "python",
   "name": "python3"
  },
  "language_info": {
   "codemirror_mode": {
    "name": "ipython",
    "version": 3
   },
   "file_extension": ".py",
   "mimetype": "text/x-python",
   "name": "python",
   "nbconvert_exporter": "python",
   "pygments_lexer": "ipython3",
   "version": "3.11.3"
  }
 },
 "nbformat": 4,
 "nbformat_minor": 2
}
